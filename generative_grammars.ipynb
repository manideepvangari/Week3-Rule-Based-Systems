{
  "cells": [
    {
      "cell_type": "markdown",
      "metadata": {
        "id": "view-in-github",
        "colab_type": "text"
      },
      "source": [
        "<a href=\"https://colab.research.google.com/github/manideepvangari/Week3-Rule-Based-Systems/blob/main/generative_grammars.ipynb\" target=\"_parent\"><img src=\"https://colab.research.google.com/assets/colab-badge.svg\" alt=\"Open In Colab\"/></a>"
      ]
    },
    {
      "cell_type": "markdown",
      "metadata": {
        "id": "kVTZagA0VvbO"
      },
      "source": [
        "<a href=\"https://colab.research.google.com/github/IAT-ComputationalCreativity-Spring2025/Week3-Rule-Based-Systems/blob/main/generative_grammars.ipynb\" target=\"_parent\"><img src=\"https://colab.research.google.com/assets/colab-badge.svg\" alt=\"Open In Colab\"/></a>"
      ]
    },
    {
      "cell_type": "markdown",
      "source": [
        "#**A2 On Bottom of Notebook**"
      ],
      "metadata": {
        "id": "8ltpukF4lDr4"
      }
    },
    {
      "cell_type": "markdown",
      "metadata": {
        "id": "c6ducBVkVvbQ"
      },
      "source": [
        "# Generative Grammars Lab Exercise\n",
        "\n",
        "This notebook introduces context-free grammars and their implementation in Python\n",
        "for generating natural language sentences."
      ]
    },
    {
      "cell_type": "markdown",
      "metadata": {
        "id": "iq-rmErQVvbR"
      },
      "source": [
        "## Introduction to Generative Grammars\n",
        "\n",
        "A context-free grammar consists of:\n",
        "- **Terminal symbols**: Words that appear in the final output (e.g., \"cat\", \"dog\")\n",
        "- **Non-terminal symbols**: Placeholders that get replaced by other symbols (e.g., NP, VP)\n",
        "- **Production rules**: Rules that define how non-terminals can be replaced\n",
        "\n",
        "For example:\n",
        "- S → NP VP (A sentence consists of a noun phrase followed by a verb phrase)\n",
        "- NP → Det N (A noun phrase consists of a determiner followed by a noun)\n",
        "- VP → V (A verb phrase can be just a verb)"
      ]
    },
    {
      "cell_type": "code",
      "execution_count": null,
      "metadata": {
        "id": "DQwyBuIfVvbS"
      },
      "outputs": [],
      "source": [
        "import random\n",
        "\n",
        "# Define our basic grammar\n",
        "basic_grammar = {\n",
        "    'S': [['NP', 'VP']],\n",
        "    'NP': [['Det', 'N'], ['Det', 'Adj', 'N']],\n",
        "    'VP': [['V', 'NP'], ['V']],\n",
        "    'Det': ['the', 'a', 'my'],\n",
        "    'N': ['cat', 'dog', 'robot', 'programmer'],\n",
        "    'V': ['sleeps', 'jumps', 'codes', 'runs'],\n",
        "    'Adj': ['quick', 'lazy', 'clever', 'brave']\n",
        "}\n",
        "\n",
        "def generate(symbol, grammar):\n",
        "    \"\"\"\n",
        "    Recursively generate a string from the grammar starting with the given symbol.\n",
        "\n",
        "    Args:\n",
        "        symbol: The symbol to start generating from\n",
        "\n",
        "    Returns:\n",
        "        A string generated from the grammar rules\n",
        "    \"\"\"\n",
        "    if isinstance(symbol, str) and symbol in grammar:\n",
        "        production = random.choice(grammar[symbol])\n",
        "        if isinstance(production, list):\n",
        "            return ' '.join(generate(sym, grammar) for sym in production)\n",
        "        return production\n",
        "    return symbol"
      ]
    },
    {
      "cell_type": "markdown",
      "metadata": {
        "id": "yHS0VAG7VvbT"
      },
      "source": [
        "## Basic Sentence Generation\n",
        "\n",
        "Let's generate some basic sentences using our grammar:"
      ]
    },
    {
      "cell_type": "code",
      "execution_count": null,
      "metadata": {
        "id": "WstcqXqLVvbU",
        "outputId": "944c79e7-1273-4a98-b30c-e081dd31a12f",
        "colab": {
          "base_uri": "https://localhost:8080/"
        }
      },
      "outputs": [
        {
          "output_type": "stream",
          "name": "stdout",
          "text": [
            "Generated sentences:\n",
            "\n",
            "1. a cat runs a lazy cat\n",
            "2. my cat runs the programmer\n",
            "3. the lazy robot runs\n",
            "4. a cat jumps the robot\n",
            "5. my quick robot codes the quick robot\n"
          ]
        }
      ],
      "source": [
        "print(\"Generated sentences:\\n\")\n",
        "for i in range(5):\n",
        "    print(f\"{i+1}. {generate('S', basic_grammar)}\")"
      ]
    },
    {
      "cell_type": "markdown",
      "metadata": {
        "id": "IZL69FlfVvbV"
      },
      "source": [
        "## Exercise 1: Expanding the Grammar\n",
        "\n",
        "Now it's your turn! Modify the grammar to include:\n",
        "- More nouns\n",
        "- More adjectives\n",
        "- More verbs\n",
        "\n",
        "Try adding these categories:\n"
      ]
    },
    {
      "cell_type": "code",
      "execution_count": null,
      "metadata": {
        "id": "EYZEHS0qVvbW"
      },
      "outputs": [],
      "source": [
        "# Create an expanded grammar\n",
        "expanded_grammar = basic_grammar.copy()  # Start with our original grammar\n",
        "\n",
        "# Add more words to existing categories\n",
        "# i.e. expanded_grammar['N'].extend(['apple', 'orange'])\n",
        "expanded_grammar['N'].extend(['car', 'computer'])\n",
        "expanded_grammar['V'].extend(['dances','laughs'])\n",
        "expanded_grammar['Adj'].extend(['shiny','dull'])\n",
        "expanded_grammar['Det'].extend(['this'])"
      ]
    },
    {
      "cell_type": "code",
      "execution_count": null,
      "metadata": {
        "id": "9j4mUO2JVvbX",
        "outputId": "f7be5341-0eb0-48ee-fe94-b2b709a73bf2",
        "colab": {
          "base_uri": "https://localhost:8080/"
        }
      },
      "outputs": [
        {
          "output_type": "stream",
          "name": "stdout",
          "text": [
            "Generated sentences with expanded vocabulary:\n",
            "\n",
            "1. a brave car sleeps\n",
            "2. a robot runs a cat\n",
            "3. my cat codes this lazy cat\n",
            "4. a computer dances\n",
            "5. a cat sleeps a robot\n"
          ]
        }
      ],
      "source": [
        "# Try the expanded grammar\n",
        "print(\"Generated sentences with expanded vocabulary:\\n\")\n",
        "for i in range(5):\n",
        "    print(f\"{i+1}. {generate('S', expanded_grammar)}\")"
      ]
    },
    {
      "cell_type": "markdown",
      "metadata": {
        "id": "STa0VqntVvbX"
      },
      "source": [
        "## Exercise 2: Adding Questions\n",
        "\n",
        "Let's modify the grammar to generate questions. We'll need:\n",
        "- Question words (who, what, where, etc.)\n",
        "- New production rules for question structure\n",
        "- Appropriate verb forms"
      ]
    },
    {
      "cell_type": "code",
      "execution_count": null,
      "metadata": {
        "id": "WoAjvR1YVvbY"
      },
      "outputs": [],
      "source": [
        "question_grammar = expanded_grammar.copy()\n",
        "\n",
        "# Question-related rules\n",
        "question_grammar['S'].append(['Q'])  # Add question as possible sentence type\n",
        "# Create some question structures and words here\n",
        "question_grammar['Q'] = [['do', 'you', 'like', 'QW'], ['who', 'was', 'the', 'QW'], ['is', 'there', 'a', 'QW'], ['where', 'is', 'the', 'QW']]  # Question structures\n",
        "question_grammar['QW'] = ['chicken' , 'driver', 'limit', 'plate']  # Question words\n"
      ]
    },
    {
      "cell_type": "code",
      "execution_count": null,
      "metadata": {
        "id": "k7L8JtL5VvbZ",
        "outputId": "6a448ea8-57a7-48cc-b246-89b9fb6d8471",
        "colab": {
          "base_uri": "https://localhost:8080/"
        }
      },
      "outputs": [
        {
          "output_type": "stream",
          "name": "stdout",
          "text": [
            "Generated questions:\n",
            "\n",
            "1. do you like driver?\n",
            "2. where is the chicken?\n",
            "3. is there a driver?\n",
            "4. is there a limit?\n",
            "5. is there a driver?\n"
          ]
        }
      ],
      "source": [
        "print(\"Generated questions:\\n\")\n",
        "for i in range(5):\n",
        "    print(f\"{i+1}. {generate('Q', question_grammar)}?\")"
      ]
    },
    {
      "cell_type": "markdown",
      "metadata": {
        "id": "1YIsb1RSVvbZ"
      },
      "source": [
        "## Challenge: Poetry Generation\n",
        "\n",
        "Create a grammar that generates simple poetry. Consider:\n",
        "- Line structures\n",
        "- Rhyming words\n",
        "- Poetic phrases"
      ]
    },
    {
      "cell_type": "code",
      "execution_count": null,
      "metadata": {
        "id": "oSR2tnY5Vvba",
        "outputId": "51cc98a1-c946-45c2-f165-c3947babec9f",
        "colab": {
          "base_uri": "https://localhost:8080/"
        }
      },
      "outputs": [
        {
          "output_type": "stream",
          "name": "stdout",
          "text": [
            "Generated haiku:\n",
            "\n",
            "dream dances gently\n",
            "my melodic dream batters\n",
            "dog dances gently\n"
          ]
        }
      ],
      "source": [
        "import random\n",
        "\n",
        "# Grammar explicitly designed for haikus\n",
        "haiku_grammar = {\n",
        "    'POEM': [['LINE_5', 'LINE_7', 'LINE_5']],\n",
        "    'LINE_5': [['N','V','ADV']],\n",
        "    'LINE_7': [['DET','ADJ','N','V']],\n",
        "\n",
        "    'DET': ['the', 'a', 'my'],\n",
        "    'ADJ': ['beautiful', 'elegant', 'majestic', 'melodic', 'harmonic'],\n",
        "    'N': ['moon', 'dream', 'dog', 'girl', 'bird'],\n",
        "    'V': ['whispers', 'dances', 'lingers', 'batters', 'treasures'],\n",
        "    'ADV': ['softly', 'sweetly', 'gently', 'weakly', 'strongly'],\n",
        "}\n",
        "\n",
        "def generate(symbol):\n",
        "    \"\"\"\n",
        "    Recursively generate a line or phrase from the grammar.\n",
        "    \"\"\"\n",
        "    if isinstance(symbol, list):\n",
        "        return ' '.join(generate(part) for part in symbol)\n",
        "    elif symbol in haiku_grammar:\n",
        "        production = random.choice(haiku_grammar[symbol])\n",
        "        return generate(production)\n",
        "    return symbol\n",
        "\n",
        "def generate_haiku():\n",
        "    \"\"\"\n",
        "    Generate a haiku in 5-7-5 syllable structure using the grammar.\n",
        "    \"\"\"\n",
        "    poem_structure = haiku_grammar['POEM'][0]\n",
        "    return '\\n'.join(generate(line) for line in poem_structure)\n",
        "\n",
        "# Generate and print a haiku\n",
        "print(\"Generated haiku:\\n\")\n",
        "print(generate_haiku())\n"
      ]
    },
    {
      "cell_type": "markdown",
      "metadata": {
        "id": "xH-JHhjuVvbb"
      },
      "source": [
        "## Exercises for Practice\n",
        "\n",
        "1. Try adding different types of sentence structures to the basic grammar\n",
        "2. Create themed vocabularies (e.g., science fiction, fantasy, nature)\n",
        "3. Modify the poetry generator to create different verse structures\n",
        "4. Add rhyming capabilities to the poetry generator\n",
        "5. Implement a grammar for generating specific types of text (e.g., news headlines, weather reports)\n",
        "\n",
        "Remember: The beauty of generative grammars lies in their ability to create infinite variations from a finite set of rules!"
      ]
    },
    {
      "cell_type": "markdown",
      "source": [
        "#A2: Rule-Based System"
      ],
      "metadata": {
        "id": "g4swgGIWlVqn"
      }
    },
    {
      "cell_type": "code",
      "source": [
        "import random\n",
        "\n",
        "# Grammar rules for a romance story\n",
        "romance_grammar = {\n",
        "    'STORY': [['INTRO', 'FIRST_SIGHT', 'REACTION', 'INTERACTION', 'ENDING']],\n",
        "\n",
        "    'INTRO': [['It was another', 'ADJ_DAY', 'morning in the university, where students shuffled into their classrooms, chatting about their assignments and upcoming exams.', 'PROTAGONIST', 'sat in the', 'SETTING', 'waiting for class to begin, his fingers tapping lightly on the desk as he stared out the window, lost in thought.']],\n",
        "\n",
        "    'FIRST_SIGHT': [['Then,', 'LOVE_INTEREST', 'walked in, with her long black hair flowing like silk behind her, her presence', 'ADJ_PRESENCE', 'drawing the eyes of everyone in the room as she made her way gracefully to her seat.']],\n",
        "\n",
        "    'REACTION': [['PROTAGONIST', 'felt his heart', 'V_REACT', 'as he struggled to look away, a warm rush spreading through his chest while his mind raced with thoughts of how he could muster the courage to speak to her. She was so breathtakingly beautiful, her every movement exuding elegance and charm.']],\n",
        "\n",
        "    'INTERACTION': [['For a brief moment, their eyes met, and she', 'V_INTERACT', 'before looking away, a soft, almost knowing smile playing at the corners of her lips as if she, too, had felt the spark of something unspoken between them.']],\n",
        "\n",
        "    'ENDING': [['Was it fate, or just a fleeting moment in time that would soon be forgotten? Only time would tell if this was the beginning of something real or just another passing day in the crowded halls of the university.']],\n",
        "\n",
        "    # Word banks\n",
        "    'PROTAGONIST': ['Ethan', 'Daniel', 'James', 'Liam'],\n",
        "    'LOVE_INTEREST': ['Sophia', 'Isabelle', 'Emily', 'Olivia'],\n",
        "\n",
        "    'ADJ_DAY': ['ordinary', 'quiet', 'rainy', 'bustling'],\n",
        "    'SETTING': ['lecture hall', 'philosophy class', 'library', 'cafeteria'],\n",
        "\n",
        "    'ADJ_PRESENCE': ['effortlessly', 'gracefully', 'mesmerizingly', 'softly'],\n",
        "    'V_REACT': ['skip a beat', 'race', 'stop', 'pound'],\n",
        "    'V_INTERACT': ['smiled', 'tilted her head', 'brushed a lock of hair behind her ear', 'glanced away'],\n",
        "}\n",
        "\n",
        "def generate(symbol):\n",
        "    \"\"\" Recursively generate a story element. \"\"\"\n",
        "    if isinstance(symbol, list):\n",
        "        return ' '.join(generate(part) for part in symbol)\n",
        "    elif symbol in romance_grammar:\n",
        "        return generate(random.choice(romance_grammar[symbol]))\n",
        "    return symbol\n",
        "\n",
        "def generate_romance_story():\n",
        "    \"\"\" Generate a love-at-first-sight romance story. \"\"\"\n",
        "    return generate(romance_grammar['STORY'][0])\n",
        "\n",
        "# Generate and print the story\n",
        "print(\"//////////////////////////Generated Romance Story://////////////////////////////////////////////\\n\")\n",
        "print(generate_romance_story())\n"
      ],
      "metadata": {
        "id": "k9fM0UhAldqi",
        "outputId": "80d64a35-a590-4c6f-f6e0-f11106641414",
        "colab": {
          "base_uri": "https://localhost:8080/"
        }
      },
      "execution_count": 8,
      "outputs": [
        {
          "output_type": "stream",
          "name": "stdout",
          "text": [
            "//////////////////////////Generated Romance Story://////////////////////////////////////////////\n",
            "\n",
            "It was another bustling morning in the university, where students shuffled into their classrooms, chatting about their assignments and upcoming exams. James sat in the library waiting for class to begin, his fingers tapping lightly on the desk as he stared out the window, lost in thought. Then, Isabelle walked in, with her long black hair flowing like silk behind her, her presence effortlessly drawing the eyes of everyone in the room as she made her way gracefully to her seat. Liam felt his heart pound as he struggled to look away, a warm rush spreading through his chest while his mind raced with thoughts of how he could muster the courage to speak to her. She was so breathtakingly beautiful, her every movement exuding elegance and charm. For a brief moment, their eyes met, and she tilted her head before looking away, a soft, almost knowing smile playing at the corners of her lips as if she, too, had felt the spark of something unspoken between them. Was it fate, or just a fleeting moment in time that would soon be forgotten? Only time would tell if this was the beginning of something real or just another passing day in the crowded halls of the university.\n"
          ]
        }
      ]
    }
  ],
  "metadata": {
    "kernelspec": {
      "display_name": "iat460",
      "language": "python",
      "name": "python3"
    },
    "language_info": {
      "codemirror_mode": {
        "name": "ipython",
        "version": 3
      },
      "file_extension": ".py",
      "mimetype": "text/x-python",
      "name": "python",
      "nbconvert_exporter": "python",
      "pygments_lexer": "ipython3",
      "version": "3.9.21"
    },
    "colab": {
      "provenance": [],
      "include_colab_link": true
    }
  },
  "nbformat": 4,
  "nbformat_minor": 0
}